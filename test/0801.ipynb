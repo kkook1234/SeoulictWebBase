{
 "cells": [
  {
   "cell_type": "code",
   "execution_count": 33,
   "metadata": {},
   "outputs": [
    {
     "ename": "TypeError",
     "evalue": "'Styler' object is not subscriptable",
     "output_type": "error",
     "traceback": [
      "\u001b[1;31m---------------------------------------------------------------------------\u001b[0m",
      "\u001b[1;31mTypeError\u001b[0m                                 Traceback (most recent call last)",
      "Cell \u001b[1;32mIn[33], line 8\u001b[0m\n\u001b[0;32m      6\u001b[0m csv_data\u001b[39m=\u001b[39mcsv_data\u001b[39m.\u001b[39mdrop(\u001b[39m'\u001b[39m\u001b[39mindex\u001b[39m\u001b[39m'\u001b[39m,axis\u001b[39m=\u001b[39m\u001b[39m1\u001b[39m)\n\u001b[0;32m      7\u001b[0m csv_data\u001b[39m=\u001b[39mcsv_data\u001b[39m.\u001b[39mstyle\u001b[39m.\u001b[39mhide(axis\u001b[39m=\u001b[39m\u001b[39m'\u001b[39m\u001b[39mindex\u001b[39m\u001b[39m'\u001b[39m)\n\u001b[1;32m----> 8\u001b[0m a\u001b[39m=\u001b[39mcsv_data[\u001b[39m'\u001b[39;49m\u001b[39msalary\u001b[39;49m\u001b[39m'\u001b[39;49m]\n\u001b[0;32m      9\u001b[0m a\n\u001b[0;32m     10\u001b[0m \u001b[39m# for i in range(len(csv_data.index)):\u001b[39;00m\n\u001b[0;32m     11\u001b[0m \u001b[39m#     csv_data.replace({'salary':1},csv_data[salary])\u001b[39;00m\n\u001b[0;32m     12\u001b[0m \n\u001b[0;32m     13\u001b[0m \u001b[39m# csv_data\u001b[39;00m\n",
      "\u001b[1;31mTypeError\u001b[0m: 'Styler' object is not subscriptable"
     ]
    }
   ],
   "source": [
    "import pandas as pd\n",
    "\n",
    "csv_data = pd.read_csv('my_data.csv')\n",
    "csv_data['salary']=[50000, 60000, 70000, 400000, 50000, 60000, 70000, 400000]\n",
    "csv_data=csv_data.rename(columns={'Unnamed: 0':'index'})\n",
    "csv_data=csv_data.drop('index',axis=1)\n",
    "csv_data=csv_data.style.hide(axis='index')\n",
    "a=csv_data['salary']\n",
    "a\n",
    "# for i in range(len(csv_data.index)):\n",
    "#     csv_data.replace({'salary':1},csv_data[salary])\n",
    "\n",
    "# csv_data"
   ]
  },
  {
   "cell_type": "code",
   "execution_count": null,
   "metadata": {},
   "outputs": [],
   "source": []
  }
 ],
 "metadata": {
  "kernelspec": {
   "display_name": "Python 3",
   "language": "python",
   "name": "python3"
  },
  "language_info": {
   "codemirror_mode": {
    "name": "ipython",
    "version": 3
   },
   "file_extension": ".py",
   "mimetype": "text/x-python",
   "name": "python",
   "nbconvert_exporter": "python",
   "pygments_lexer": "ipython3",
   "version": "3.11.4"
  },
  "orig_nbformat": 4
 },
 "nbformat": 4,
 "nbformat_minor": 2
}
