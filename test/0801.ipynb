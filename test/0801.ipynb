{
 "cells": [
  {
   "cell_type": "code",
   "execution_count": 6,
   "metadata": {},
   "outputs": [],
   "source": [
    "import pandas as pd\n",
    "\n",
    "csv_data = pd.read_csv('my_data.csv')\n",
    "csv_data['salary']=[50000, 60000, 70000, 400000, 50000, 60000, 70000, 400000]#샐러리 column 추가\n",
    "csv_data['salary']=csv_data['salary'].apply(lambda int_num:'{:,}'.format(int_num))#천 단위 쉼표 추가\n",
    "csv_data['name']=['앨리스','밥','칼리','제임스','앨리스','밥','칼리','제임스']# name column 변경\n",
    "csv_data=csv_data.rename(columns={'Unnamed: 0':'index'})#column명 변경\n",
    "csv_data=csv_data.drop('index',axis=1)#column 삭제\n",
    "# csv_data=csv_data.style.hide(axis='index')#index 삭제\n",
    "# csv_data\n",
    "csv_data.to_csv('sample3.csv',index=False)#index없이 저장\n",
    "\n"
   ]
  },
  {
   "cell_type": "code",
   "execution_count": null,
   "metadata": {},
   "outputs": [],
   "source": []
  }
 ],
 "metadata": {
  "kernelspec": {
   "display_name": "Python 3",
   "language": "python",
   "name": "python3"
  },
  "language_info": {
   "codemirror_mode": {
    "name": "ipython",
    "version": 3
   },
   "file_extension": ".py",
   "mimetype": "text/x-python",
   "name": "python",
   "nbconvert_exporter": "python",
   "pygments_lexer": "ipython3",
   "version": "3.11.4"
  },
  "orig_nbformat": 4
 },
 "nbformat": 4,
 "nbformat_minor": 2
}
